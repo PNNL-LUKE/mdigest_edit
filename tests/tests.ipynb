{
 "cells": [
  {
   "cell_type": "code",
   "execution_count": 2,
   "metadata": {
    "collapsed": true,
    "ExecuteTime": {
     "end_time": "2023-09-25T21:46:33.775366Z",
     "start_time": "2023-09-25T21:46:32.228903Z"
    }
   },
   "outputs": [
    {
     "name": "stderr",
     "output_type": "stream",
     "text": [
      "<frozen importlib._bootstrap>:219: RuntimeWarning: scipy._lib.messagestream.MessageStream size changed, may indicate binary incompatibility. Expected 56 from C header, got 64 from PyObject\n"
     ]
    }
   ],
   "source": [
    "import MDAnalysis as mda"
   ]
  },
  {
   "cell_type": "code",
   "execution_count": 3,
   "outputs": [
    {
     "name": "stderr",
     "output_type": "stream",
     "text": [
      "/usr/local/Caskroom/miniconda/base/envs/charm38/lib/python3.8/site-packages/MDAnalysis/topology/TOPParser.py:288: UserWarning: ATOMIC_NUMBER record not found, elements attribute will not be populated. If needed these can be guessed using MDAnalysis.topology.guessers.\n",
      "  warnings.warn(msg)\n"
     ]
    },
    {
     "data": {
      "text/plain": "<Universe with 7195 atoms>"
     },
     "execution_count": 3,
     "metadata": {},
     "output_type": "execute_result"
    }
   ],
   "source": [
    "path = '/Volumes/fatpidg/IGPS/TRAJECTORIES/tmaritma/'\n",
    "top = path + 'protein.prmtop'\n",
    "traj = path + 'tmaritma2_apo.dcd'\n",
    "u = mda.Universe(top, traj)"
   ],
   "metadata": {
    "collapsed": false,
    "ExecuteTime": {
     "end_time": "2023-09-25T21:46:40.687585Z",
     "start_time": "2023-09-25T21:46:38.268790Z"
    }
   }
  },
  {
   "cell_type": "code",
   "execution_count": 28,
   "outputs": [],
   "source": [
    "from importlib import reload\n",
    "\n",
    "import mdigest\n",
    "import mdigest.core\n",
    "import mdigest.core.correlation\n",
    "reload(mdigest.core.correlation)\n",
    "from mdigest.core.parsetrajectory import *\n",
    "from mdigest.core.correlation import *\n"
   ],
   "metadata": {
    "collapsed": false,
    "ExecuteTime": {
     "end_time": "2023-09-25T22:18:26.685673Z",
     "start_time": "2023-09-25T22:18:26.678848Z"
    }
   }
  },
  {
   "cell_type": "code",
   "execution_count": null,
   "outputs": [],
   "source": [
    "# TEST CORRELATION MODULE"
   ],
   "metadata": {
    "collapsed": false
   }
  },
  {
   "cell_type": "code",
   "execution_count": 27,
   "outputs": [
    {
     "name": "stderr",
     "output_type": "stream",
     "text": [
      "/usr/local/Caskroom/miniconda/base/envs/charm38/lib/python3.8/site-packages/MDAnalysis/topology/TOPParser.py:288: UserWarning: ATOMIC_NUMBER record not found, elements attribute will not be populated. If needed these can be guessed using MDAnalysis.topology.guessers.\n",
      "  warnings.warn(msg)\n"
     ]
    },
    {
     "data": {
      "text/plain": "  0%|          | 0/1000 [00:00<?, ?it/s]",
      "application/vnd.jupyter.widget-view+json": {
       "version_major": 2,
       "version_minor": 0,
       "model_id": "bf01967d31cc4f2eb0a10ae777301513"
      }
     },
     "metadata": {},
     "output_type": "display_data"
    },
    {
     "name": "stdout",
     "output_type": "stream",
     "text": [
      "@>: number of frames:      1000\n",
      "@>: number of replicas:    1\n",
      "@>: using window length of 499 simulation steps\n",
      "@>: number or frames per replica: 500\n",
      "@>: first frame:           0\n",
      "@>: last frame:            999\n",
      "@>: step:                  2\n",
      "@>: number of residues in selected atom group: 454\n",
      "@>: number of nodes    in selected atom group: 454\n",
      "@>: number of elements in selected atom group: 454\n",
      "@>: sanity check pass: number of residues is same as number of nodes\n",
      "@>: using window length of 499 simulation steps\n",
      "@> -- shape of coordinates matrix: (1, 499, 454, 3)\n",
      "@> -- shape of coordinates_allreplicas matrix: (1, 499, 1362)\n",
      "@> -- shape of displacements_allreplicas matrix: (1, 499, 1362)\n",
      "@> -- shape of disp_from_mean_allreplicas matrix: (1, 499, 454)\n",
      "@> -- shape of distances_allreplicas matrix: (1, 454, 454)\n",
      "@> -- shape of covar_disp_allreplicas (1, 454, 454)\n",
      "@> -- shape of dcc_allreplicas matrix: (1, 454, 454)\n",
      "@> -- shape of pcc_allreplicas matrix: (1, 454, 454)\n"
     ]
    },
    {
     "data": {
      "text/plain": "HBox(children=(HTML(value=''), IntProgress(value=1, max=1), Label(value='')))",
      "application/vnd.jupyter.widget-view+json": {
       "version_major": 2,
       "version_minor": 0,
       "model_id": "7fd09d1075f84cc8b0702c880cef2f5e"
      }
     },
     "metadata": {},
     "output_type": "display_data"
    },
    {
     "name": "stdout",
     "output_type": "stream",
     "text": [
      "@> DEBUG 499 999 2\n",
      "@>: WARNING: the offset is not equal to the window span\n",
      "@>: LMI/MI calculation ...\n",
      "@>: begin frame: 0\n",
      "@>: end   frame: 998\n",
      "@>: step:        2\n",
      "@>: compute covariance of displacements...\n",
      "@>: reshaping coordinates...\n",
      "@>: values array has shape (499, 454, 3)\n"
     ]
    },
    {
     "name": "stderr",
     "output_type": "stream",
     "text": [
      "100%|██████████| 103285/103285 [00:11<00:00, 9173.63it/s]\n"
     ]
    },
    {
     "name": "stdout",
     "output_type": "stream",
     "text": [
      "@>: computing eigenvector centrality from lmi matrix\n",
      "@>: computing and storing distances...\n",
      "@>: computing normalized dynamical cross-correlation matrix\n",
      "@>: computing pearson correlation matrix\n"
     ]
    }
   ],
   "source": [
    "mds = MDS()\n",
    "\n",
    "mds.set_num_replicas(1)\n",
    "mds.load_system(topology=top, traj_files=traj)\n",
    "mds.align_traj(inmem=True, selection='name CA')\n",
    "mds.set_selection('protein and name CA', 'protein')\n",
    "mds.stride_trajectory(0,999,2)\n",
    "# compute correlation from CA displacements for the WT trajectory\n",
    "dyncorrWT = DynCorr(mds)\n",
    "dyncorrWT.parse_dynamics(scale=True, normalize=True, LMI='gaussian', MI='None', DCC=True, PCC=True, VERBOSE=True, COV_DISP=True)\n",
    "# use MI=knn_5_2 to compute generalized based correlation of CA displacements\n",
    "\n"
   ],
   "metadata": {
    "collapsed": false,
    "ExecuteTime": {
     "end_time": "2023-09-25T22:17:47.491847Z",
     "start_time": "2023-09-25T22:17:30.410546Z"
    }
   }
  },
  {
   "cell_type": "code",
   "execution_count": null,
   "outputs": [],
   "source": [],
   "metadata": {
    "collapsed": false
   }
  }
 ],
 "metadata": {
  "kernelspec": {
   "name": "charm38",
   "language": "python",
   "display_name": "charm38"
  },
  "language_info": {
   "codemirror_mode": {
    "name": "ipython",
    "version": 2
   },
   "file_extension": ".py",
   "mimetype": "text/x-python",
   "name": "python",
   "nbconvert_exporter": "python",
   "pygments_lexer": "ipython2",
   "version": "2.7.6"
  }
 },
 "nbformat": 4,
 "nbformat_minor": 0
}

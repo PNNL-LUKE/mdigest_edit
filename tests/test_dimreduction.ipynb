{
 "cells": [
  {
   "cell_type": "code",
   "execution_count": 3,
   "metadata": {
    "collapsed": true,
    "ExecuteTime": {
     "end_time": "2023-11-07T23:43:52.478480Z",
     "start_time": "2023-11-07T23:43:49.225594Z"
    }
   },
   "outputs": [],
   "source": [
    "import warnings\n",
    "from warnings import simplefilter\n",
    "warnings.simplefilter(action='ignore')\n",
    "simplefilter(action='ignore', category=FutureWarning)\n",
    "simplefilter(action='ignore', category=DeprecationWarning)\n",
    "simplefilter(action='ignore', category=UserWarning)\n",
    "\n",
    "from importlib import reload\n",
    "import mdigest.core.dimreduction\n",
    "reload(mdigest.core.dimreduction)\n",
    "from mdigest.core.dimreduction import *"
   ]
  },
  {
   "cell_type": "code",
   "execution_count": 5,
   "outputs": [
    {
     "name": "stdout",
     "output_type": "stream",
     "text": [
      "CPU times: user 14.8 s, sys: 1.09 s, total: 15.9 s\n",
      "Wall time: 4.42 s\n"
     ]
    }
   ],
   "source": [
    "%%time\n",
    "path = '/Volumes/fatpidg/IGPS/TRAJECTORIES/tmaritma/'\n",
    "top = path + 'protein.prmtop'\n",
    "traj = path + 'tmaritma2_apo.dcd'\n",
    "u = mda.Universe(top, traj)\n",
    "\n",
    "red = DimensionalityReduction()\n",
    "params = {'universe': u, 'reference': u, 'selection': 'backbone', 'start':0, 'stop':1000, 'step':1}\n",
    "red.source_system(**params, align=True)\n",
    "red.MVD(n_components=1)"
   ],
   "metadata": {
    "collapsed": false,
    "ExecuteTime": {
     "end_time": "2023-11-07T23:46:18.970194Z",
     "start_time": "2023-11-07T23:46:14.543216Z"
    }
   }
  },
  {
   "cell_type": "code",
   "execution_count": 6,
   "outputs": [],
   "source": [
    "params = {\n",
    "         'selection': 'backbone',\n",
    "         'outdir'   : '/Users/federica/Desktop/',\n",
    "         'outname'  : 'projected_traj',\n",
    "         'start'    : 0,\n",
    "         'stop'     : 1000,\n",
    "         'step'     : 1,\n",
    "         }\n",
    "\n",
    "universe = red.mda_u.copy()\n",
    "ref = mda.Merge(universe.select_atoms('backbone'))\n",
    "red.transformation(ref, components=1)\n",
    "projected =  red.to_file(**params)"
   ],
   "metadata": {
    "collapsed": false,
    "ExecuteTime": {
     "end_time": "2023-11-07T23:46:29.564729Z",
     "start_time": "2023-11-07T23:46:28.777026Z"
    }
   }
  },
  {
   "cell_type": "code",
   "execution_count": 7,
   "outputs": [
    {
     "data": {
      "text/plain": "",
      "application/vnd.jupyter.widget-view+json": {
       "version_major": 2,
       "version_minor": 0,
       "model_id": "c0f1d8307a214fd6bc8e859b32d2e9b9"
      }
     },
     "metadata": {},
     "output_type": "display_data"
    },
    {
     "data": {
      "text/plain": "NGLWidget(max_frame=999)",
      "application/vnd.jupyter.widget-view+json": {
       "version_major": 2,
       "version_minor": 0,
       "model_id": "401ebe0fa7e440588189f5d3d3e9892e"
      }
     },
     "metadata": {},
     "output_type": "display_data"
    }
   ],
   "source": [
    "import nglview as nv\n",
    "view = nv.show_mdanalysis(projected)\n",
    "view"
   ],
   "metadata": {
    "collapsed": false,
    "ExecuteTime": {
     "end_time": "2023-11-07T23:47:10.329966Z",
     "start_time": "2023-11-07T23:47:09.631700Z"
    }
   }
  },
  {
   "cell_type": "code",
   "execution_count": null,
   "outputs": [],
   "source": [],
   "metadata": {
    "collapsed": false
   }
  }
 ],
 "metadata": {
  "kernelspec": {
   "name": "mdigestenv",
   "language": "python",
   "display_name": "mdigestenv"
  },
  "language_info": {
   "codemirror_mode": {
    "name": "ipython",
    "version": 2
   },
   "file_extension": ".py",
   "mimetype": "text/x-python",
   "name": "python",
   "nbconvert_exporter": "python",
   "pygments_lexer": "ipython2",
   "version": "2.7.6"
  }
 },
 "nbformat": 4,
 "nbformat_minor": 0
}
